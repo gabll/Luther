{
 "metadata": {
  "name": "",
  "signature": "sha256:ac52d7709d872f7d9742560cf565502acd641bd30e90ea9f0e68d46a1bc4e567"
 },
 "nbformat": 3,
 "nbformat_minor": 0,
 "worksheets": [
  {
   "cells": [
    {
     "cell_type": "code",
     "collapsed": false,
     "input": [
      "import urllib2\n",
      "from bs4 import BeautifulSoup\n",
      "import re\n",
      "from urlparse import urljoin\n",
      "import time\n",
      "from pprint import pprint\n",
      "import pickle\n",
      "import sys\n",
      "from BOM_movie import BOM_movie\n",
      "import pandas as pd"
     ],
     "language": "python",
     "metadata": {},
     "outputs": [],
     "prompt_number": 6
    },
    {
     "cell_type": "heading",
     "level": 3,
     "metadata": {},
     "source": [
      "Create a pkl file with a dictionary of all the movies ids and titles from the Box Office Mojo alphabetical index pages"
     ]
    },
    {
     "cell_type": "code",
     "collapsed": false,
     "input": [
      "def get_soup_from_url(url):\n",
      "    \"\"\"\n",
      "    Create a soup from a complete url\n",
      "    \"\"\"\n",
      "    opener = urllib2.build_opener()\n",
      "    opener.addheader = [('User-agent', \"Mozilla/5.0\")]\n",
      "    page = opener.open(url)  \n",
      "    soup = BeautifulSoup(page)\n",
      "    return soup\n",
      "    \n",
      "\n",
      "def get_all_mojo_films(filename):\n",
      "    \"\"\"\n",
      "    Obtain a dictionary with boxofficemojo id and movie title scraping alphabetical index page.\\\n",
      "    Save pickle file with dictionary to <filename>\n",
      "    \"\"\"\n",
      "    \n",
      "    alphabet = ['NUM','A','B','C','D','E','F','G','H','I','J','K','L',\n",
      "                    'M','N','O','P','Q','R','S','T','U','V','W','X','Y','Z']\n",
      "    mojo_films = {}\n",
      "    for num, char in enumerate(alphabet):\n",
      "        first_page = 'http://www.boxofficemojo.com/movies/alphabetical.htm?letter=' + char + '&p=.htm'\n",
      "        soup = get_soup_from_url(first_page)\n",
      "        rows = [td.parent for td in soup.find_all('td', align='left')]\n",
      "        for row in rows:\n",
      "            mojo_films[row.a['href'].replace(u'\\xa0','%A0').split('=')[1].split('.')[0]]=row.a.text.replace(u'\\xa0','%A0')\n",
      "        time.sleep(1)\n",
      "        sub_pages = [urljoin('http://www.boxofficemojo.com/', r['href'])\\\n",
      "                     for r in soup.find(class_=\"alpha-nav-holder\").find_all('a')]\n",
      "        for page in sub_pages:\n",
      "            soup = get_soup_from_url(page)\n",
      "            rows = [td.parent for td in soup.find_all('td', align='left')]\n",
      "            for row in rows:\n",
      "                mojo_films[row.a['href'].replace(u'\\xa0','%A0').split('=')[1].split('.')[0]]=row.a.text.replace(u'\\xa0','%A0')\n",
      "            time.sleep(1)\n",
      "        with open(filename, 'w') as picklefile:    \n",
      "            pickle.dump(mojo_films, picklefile)\n",
      "    return mojo_films\n",
      "\n",
      "BOMojo_films = get_all_mojo_films(\"movie_ids.pkl\")"
     ],
     "language": "python",
     "metadata": {},
     "outputs": [],
     "prompt_number": 25
    },
    {
     "cell_type": "heading",
     "level": 3,
     "metadata": {},
     "source": [
      "Decoupling point: load pkl file generated from the cell above"
     ]
    },
    {
     "cell_type": "code",
     "collapsed": false,
     "input": [
      "with open(\"movie_ids.pkl\", 'r') as picklefile: \n",
      "    movie_ids = pickle.load(picklefile)\n",
      "\n",
      "print 'Number of movies: ', len(movie_ids)\n",
      "print 'First elements: '\n",
      "it = iter(movie_ids.iteritems())\n",
      "for _ in range(5):\n",
      "    pprint(it.next())"
     ],
     "language": "python",
     "metadata": {},
     "outputs": [
      {
       "output_type": "stream",
       "stream": "stdout",
       "text": [
        "Number of movies:  15245\n",
        "First elements: \n",
        "(u'turntheriver', u'Turn the River')\n",
        "(u'shinealight', u'Shine a Light')\n",
        "(u'womaninblack2', u'The Woman in Black 2: Angel of Death')\n",
        "(u'talkingdirtyafterdark', u'Talking Dirty After Dark')\n",
        "(u'neverstandstill', u\"Never Stand Still: Dancing at Jacob's Pillow\")\n"
       ]
      }
     ],
     "prompt_number": 2
    },
    {
     "cell_type": "heading",
     "level": 3,
     "metadata": {},
     "source": [
      "Create a pickle file with a dictionary of all movies data"
     ]
    },
    {
     "cell_type": "code",
     "collapsed": false,
     "input": [
      "movies_scraped = []\n",
      "movies_skipped = []\n",
      "\n",
      "for key in movie_ids.iterkeys():\n",
      "    try:\n",
      "        movie = BOM_movie(key)\n",
      "        movies_scraped.append(movie.get_movie_data())\n",
      "    except:\n",
      "        movies_skipped.append(key)\n",
      "\n",
      "with open('movies_data.pkl', 'w') as picklefile:\n",
      "    movies_data = movies_scraped, movies_skipped\n",
      "    pickle.dump(movies_data, picklefile)"
     ],
     "language": "python",
     "metadata": {},
     "outputs": []
    },
    {
     "cell_type": "heading",
     "level": 3,
     "metadata": {},
     "source": [
      "Decoupling point: load pkl file generated from the cell above"
     ]
    },
    {
     "cell_type": "code",
     "collapsed": false,
     "input": [
      "with open(\"movies_data.pkl\", 'r') as picklefile: \n",
      "    movies_scraped, movies_skipped = pickle.load(picklefile)\n",
      "    \n",
      "print 'Movies scraped: ', len(movies_scraped)\n",
      "print 'Movies skipped: ', len(movies_skipped)\n",
      "print '\\n'\n",
      "print 'First elements: '\n",
      "for i in range(5):\n",
      "    pprint(movies_scraped[i])"
     ],
     "language": "python",
     "metadata": {},
     "outputs": [
      {
       "output_type": "stream",
       "stream": "stdout",
       "text": [
        "Movies scraped:  15230\n",
        "Movies skipped:  15\n",
        "\n",
        "\n",
        "First elements: \n",
        "{'BOM_id': u'turntheriver',\n",
        " 'actors': u'Famke Janssen',\n",
        " 'budget': None,\n",
        " 'director': None,\n",
        " 'distributor': u'Screen Media',\n",
        " 'domestic_total_gross': 5149.0,\n",
        " 'genre': u'Drama',\n",
        " 'movie_title': u'Turn the River',\n",
        " 'opening_income_wend': 2722.0,\n",
        " 'opening_theaters': 1,\n",
        " 'rating': u'R',\n",
        " 'release_date': datetime.datetime(2008, 5, 9, 0, 0),\n",
        " 'runtime_mins': 92}\n",
        "{'BOM_id': u'shinealight',\n",
        " 'actors': None,\n",
        " 'budget': None,\n",
        " 'director': u'Martin Scorsese',\n",
        " 'distributor': u'Paramount Vantage',\n",
        " 'domestic_total_gross': 5505267.0,\n",
        " 'genre': u'Documentary',\n",
        " 'movie_title': u'Shine a Light',\n",
        " 'opening_income_wend': 1488081.0,\n",
        " 'opening_theaters': 276,\n",
        " 'rating': u'PG-13',\n",
        " 'release_date': datetime.datetime(2008, 4, 4, 0, 0),\n",
        " 'runtime_mins': 122}\n",
        "{'BOM_id': u'womaninblack2',\n",
        " 'actors': u'Jeremy Irvine',\n",
        " 'budget': None,\n",
        " 'director': None,\n",
        " 'distributor': u'Relativity',\n",
        " 'domestic_total_gross': 25376533.0,\n",
        " 'genre': u'Horror',\n",
        " 'movie_title': u'The Woman in Black 2: Angel of Death',\n",
        " 'opening_income_wend': 15027415.0,\n",
        " 'opening_theaters': 2602,\n",
        " 'rating': u'PG-13',\n",
        " 'release_date': datetime.datetime(2015, 1, 2, 0, 0),\n",
        " 'runtime_mins': 98}\n",
        "{'BOM_id': u'talkingdirtyafterdark',\n",
        " 'actors': u'Martin Lawrence',\n",
        " 'budget': None,\n",
        " 'director': None,\n",
        " 'distributor': u'New Line',\n",
        " 'domestic_total_gross': 978775.0,\n",
        " 'genre': u'Comedy',\n",
        " 'movie_title': u'Talking Dirty After Dark',\n",
        " 'opening_income_wend': None,\n",
        " 'opening_theaters': None,\n",
        " 'rating': u'R',\n",
        " 'release_date': datetime.datetime(1991, 5, 17, 0, 0),\n",
        " 'runtime_mins': 86}\n",
        "{'BOM_id': u'neverstandstill',\n",
        " 'actors': None,\n",
        " 'budget': None,\n",
        " 'director': None,\n",
        " 'distributor': u'First Run',\n",
        " 'domestic_total_gross': 14272.0,\n",
        " 'genre': u'Documentary',\n",
        " 'movie_title': u\"Never Stand Still: Dancing at Jacob's Pillow\",\n",
        " 'opening_income_wend': 1951.0,\n",
        " 'opening_theaters': 1,\n",
        " 'rating': u'Unrated',\n",
        " 'release_date': datetime.datetime(2012, 5, 18, 0, 0),\n",
        " 'runtime_mins': 74}\n"
       ]
      }
     ],
     "prompt_number": 5
    }
   ],
   "metadata": {}
  }
 ]
}